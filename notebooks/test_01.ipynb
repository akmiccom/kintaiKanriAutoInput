{
 "cells": [
  {
   "cell_type": "markdown",
   "metadata": {},
   "source": [
    "Actions action = new Actions(driver);\n",
    "WebElement nametxt = driver.findElement(By.id(\"name\"));\n",
    "action.moveToElement(nametxt).click().sendKeys(\"Test Name\").perform();"
   ]
  },
  {
   "cell_type": "code",
   "execution_count": 1,
   "metadata": {},
   "outputs": [],
   "source": [
    "from selenium.webdriver import Chrome, ChromeOptions\n",
    "from webdriver_manager.chrome import ChromeDriverManager\n",
    "from selenium.webdriver.chrome.service import Service\n",
    "from selenium.webdriver.support.ui import WebDriverWait\n",
    "from selenium.webdriver.support.expected_conditions import visibility_of_all_elements_located\n",
    "from selenium.webdriver.common.by import By\n",
    "from selenium.webdriver.common.keys import Keys\n",
    "from selenium.webdriver.common.action_chains import ActionChains\n",
    "\n",
    "import pandas as pd\n",
    "import datetime\n",
    "import os\n",
    "import re\n",
    "import time\n",
    "import json\n",
    "import subprocess\n",
    "import glob\n",
    "import calendar\n",
    "\n",
    "today = datetime.date.today()"
   ]
  },
  {
   "cell_type": "code",
   "execution_count": 2,
   "metadata": {},
   "outputs": [],
   "source": [
    "CLOUD_GATE = r'https://echizen.cloudgate.jp/user-hub/yachiyo-ind/'\n",
    "\n",
    "GMAIL_URL = r'https://mail.google.com/a/yachiyo-ind.co.jp/'\n",
    "CALENDAR_URL = r'https://calendar.google.com/calendar/u/0/r?tab=mc&pli=1'\n",
    "KOBETSU_GENKA_URL = r'https://echizen.cloudgate.jp/sso/yachiyo-ind/post.xhtml?providerUuid=284c5466-7256-49e3-99ab-04ff1a8178a8'\n",
    "KINTAIKANRI_URL = r'https://yachiyo-ind.obic7.obicnet.ne.jp/Obic7FederationService'\n",
    "GUEST_WIFI_URL = r'https://sites.google.com/yachiyo-ind.co.jp/yachiyo-portal/guest-wifi'"
   ]
  },
  {
   "cell_type": "code",
   "execution_count": 3,
   "metadata": {},
   "outputs": [],
   "source": [
    "def start_google_chrome_with_port(url):\n",
    "    \n",
    "    chromePath = r'\"C:\\Program Files\\Google\\Chrome\\Application\\chrome.exe\" -remote-debugging-port=9222 --user-data-dir=C:\\Temp_Chrome'\n",
    "    \n",
    "    subprocess.Popen(chromePath)\n",
    "    time.sleep(3)\n",
    "\n",
    "    options = ChromeOptions()\n",
    "    options.use_chromium = True\n",
    "    options.debugger_address = r'127.0.0.1:9222'\n",
    "    \n",
    "    try:\n",
    "        chromedriverPath = ChromeDriverManager().install()\n",
    "    except:\n",
    "        chromedriverPath = 'C:\\python\\chromedriver\\chromedriver.exe'\n",
    "    \n",
    "    service = Service(executable_path=chromedriverPath)\n",
    "    driver = Chrome(service=service, options=options)\n",
    "    actionChains = ActionChains(driver)\n",
    "    \n",
    "    # driver.set_window_position(1920, 0)\n",
    "    driver.set_window_size(1300, 1000)\n",
    "    driver.implicitly_wait(5)\n",
    "    \n",
    "    driver.get(url)\n",
    "    \n",
    "    return driver, actionChains\n",
    "\n"
   ]
  },
  {
   "cell_type": "code",
   "execution_count": 4,
   "metadata": {},
   "outputs": [],
   "source": [
    "def send_keys_and_enter(driver, loginInfo, css, keys):\n",
    "    \n",
    "    wait = WebDriverWait(driver, 10)\n",
    "    wait.until(visibility_of_all_elements_located((By.CSS_SELECTOR, css)))\n",
    "    \n",
    "    eles = driver.find_elements(By.CSS_SELECTOR, css)\n",
    "    if eles:\n",
    "        eles[0].clear()\n",
    "        eles[0].send_keys(loginInfo[keys])\n",
    "        eles[0].send_keys(Keys.ENTER)\n",
    "        time.sleep(3)\n",
    "\n",
    "\n",
    "def open_new_window(driver, url, css, winNum):\n",
    "    \n",
    "    driver.execute_script(\"window.open()\")\n",
    "    driver.switch_to.window(driver.window_handles[winNum])\n",
    "    driver.get(url)\n",
    "    \n",
    "    if url == GMAIL_URL:\n",
    "        try:\n",
    "            eles = driver.find_elements(By.CSS_SELECTOR, 'div > div > div > div > button > span')\n",
    "            if eles:\n",
    "                eles[0].click()\n",
    "        except:\n",
    "            pass\n",
    "        \n",
    "    wait = WebDriverWait(driver, 30)\n",
    "    wait.until(visibility_of_all_elements_located((By.CSS_SELECTOR, css)))\n",
    "        \n",
    "    if url == KOBETSU_GENKA_URL:\n",
    "        eles = driver.find_elements(By.CSS_SELECTOR, '#bodyMain > header > nav > a')\n",
    "        if eles:\n",
    "            eles[0].click()\n",
    "        eles = driver.find_elements(By.CSS_SELECTOR, 'section > ul > li:nth-child(2) > a')\n",
    "        if eles:\n",
    "            eles[0].click()"
   ]
  },
  {
   "cell_type": "code",
   "execution_count": 5,
   "metadata": {},
   "outputs": [],
   "source": [
    "try:\n",
    "    with open(glob.glob('../*.json')[0]) as f:\n",
    "        loginInfo = json.load(f)\n",
    "except FileNotFoundError as e:\n",
    "    print(e)"
   ]
  },
  {
   "cell_type": "code",
   "execution_count": 6,
   "metadata": {},
   "outputs": [],
   "source": [
    "driver, actionChains = start_google_chrome_with_port(CLOUD_GATE)"
   ]
  },
  {
   "cell_type": "code",
   "execution_count": 7,
   "metadata": {},
   "outputs": [],
   "source": [
    "try:\n",
    "    send_keys_and_enter(driver, loginInfo, '#rawUsername', 'ID')\n",
    "    send_keys_and_enter(driver, loginInfo, '#password', 'PASSWORD')\n",
    "except:\n",
    "    pass"
   ]
  },
  {
   "cell_type": "code",
   "execution_count": 8,
   "metadata": {},
   "outputs": [],
   "source": [
    "newWindosList = {\n",
    "    # GMAIL_URL: '#\\:mr > div > div > a',\n",
    "    # CALENDAR_URL: 'body',\n",
    "    KOBETSU_GENKA_URL: 'body',\n",
    "    # KINTAIKANRI_URL: 'body',\n",
    "}"
   ]
  },
  {
   "cell_type": "code",
   "execution_count": 9,
   "metadata": {},
   "outputs": [],
   "source": [
    "for winNum, (url, css) in enumerate(newWindosList.items()):\n",
    "    open_new_window(driver, url, css, winNum+1) "
   ]
  },
  {
   "cell_type": "code",
   "execution_count": 10,
   "metadata": {},
   "outputs": [],
   "source": [
    "# 日別合計\n",
    "def extact_daily_total(rowNum):\n",
    "    \n",
    "    get_table = []\n",
    "    \n",
    "    css = f'#tblDayTotal > tbody > tr:nth-child({rowNum}) > td'\n",
    "    for ele in driver.find_elements(By.CSS_SELECTOR, css):\n",
    "        txt = ele.text\n",
    "        if txt == '':\n",
    "            get_table.append(0.0)\n",
    "        else:\n",
    "            get_table.append(txt)\n",
    "            \n",
    "    css = '#tblDayTotal_wrapper > div:nth-child(3) > div > div > div > div > table > thead > tr'\n",
    "    index = ['index'] + driver.find_elements(By.CSS_SELECTOR, css)[0].text.split()\n",
    "    \n",
    "    return get_table, index"
   ]
  },
  {
   "attachments": {},
   "cell_type": "markdown",
   "metadata": {},
   "source": [
    "上段テーブルの取得"
   ]
  },
  {
   "cell_type": "code",
   "execution_count": 11,
   "metadata": {},
   "outputs": [],
   "source": [
    "get_tables = []\n",
    "for rowNum in range(5):\n",
    "    get_table, columns = extact_daily_total(rowNum+1)\n",
    "    get_tables.append(get_table)"
   ]
  },
  {
   "attachments": {},
   "cell_type": "markdown",
   "metadata": {},
   "source": [
    "日付のインデックスを作成"
   ]
  },
  {
   "cell_type": "code",
   "execution_count": 12,
   "metadata": {},
   "outputs": [],
   "source": [
    "firstDate = today.replace(day=1)\n",
    "lastDate = today.replace(day=calendar.monthrange(today.year, today.month)[1])\n",
    "date_index = pd.date_range(start=firstDate, end=lastDate, freq=\"d\")"
   ]
  },
  {
   "attachments": {},
   "cell_type": "markdown",
   "metadata": {},
   "source": [
    "DetaFrameの整列"
   ]
  },
  {
   "cell_type": "code",
   "execution_count": 13,
   "metadata": {},
   "outputs": [
    {
     "data": {
      "text/html": [
       "<div>\n",
       "<style scoped>\n",
       "    .dataframe tbody tr th:only-of-type {\n",
       "        vertical-align: middle;\n",
       "    }\n",
       "\n",
       "    .dataframe tbody tr th {\n",
       "        vertical-align: top;\n",
       "    }\n",
       "\n",
       "    .dataframe thead th {\n",
       "        text-align: right;\n",
       "    }\n",
       "</style>\n",
       "<table border=\"1\" class=\"dataframe\">\n",
       "  <thead>\n",
       "    <tr style=\"text-align: right;\">\n",
       "      <th></th>\n",
       "      <th>要員工数</th>\n",
       "      <th>設備工数</th>\n",
       "      <th>勤怠工数</th>\n",
       "      <th>勤怠-要員</th>\n",
       "    </tr>\n",
       "  </thead>\n",
       "  <tbody>\n",
       "    <tr>\n",
       "      <th>2023-06-01</th>\n",
       "      <td>0.0</td>\n",
       "      <td>0.0</td>\n",
       "      <td>9.2</td>\n",
       "      <td>9.2</td>\n",
       "    </tr>\n",
       "    <tr>\n",
       "      <th>2023-06-02</th>\n",
       "      <td>0.0</td>\n",
       "      <td>0.0</td>\n",
       "      <td>9.2</td>\n",
       "      <td>9.2</td>\n",
       "    </tr>\n",
       "  </tbody>\n",
       "</table>\n",
       "</div>"
      ],
      "text/plain": [
       "            要員工数  設備工数  勤怠工数  勤怠-要員\n",
       "2023-06-01   0.0   0.0   9.2    9.2\n",
       "2023-06-02   0.0   0.0   9.2    9.2"
      ]
     },
     "execution_count": 13,
     "metadata": {},
     "output_type": "execute_result"
    }
   ],
   "source": [
    "initial_df = pd.DataFrame(get_tables).T\n",
    "initial_df.columns = list(initial_df.iloc[0])\n",
    "df = initial_df.drop(index=initial_df.index[[0, 1]])\n",
    "df = df.drop(columns=initial_df.columns[-1], axis=1)\n",
    "df = df.astype(float)\n",
    "df = df.set_index(date_index)\n",
    "df.head(2)"
   ]
  },
  {
   "attachments": {},
   "cell_type": "markdown",
   "metadata": {},
   "source": [
    "下のテーブルを取得 代入はしていない"
   ]
  },
  {
   "cell_type": "code",
   "execution_count": 14,
   "metadata": {},
   "outputs": [
    {
     "data": {
      "text/plain": [
       "0    KP01YRSX00002\n",
       "1    KP02YRSX00002\n",
       "2    YRD0000000000\n",
       "3    YRD0000000000\n",
       "4    YRD0000000000\n",
       "5    YRD0000000000\n",
       "6    YRD0000000000\n",
       "Name: 3, dtype: object"
      ]
     },
     "execution_count": 14,
     "metadata": {},
     "output_type": "execute_result"
    }
   ],
   "source": [
    "def extract_row_data(rowNum):\n",
    "    rowData = []\n",
    "    css = f'#divTblProductCostInfo > div > div > div > div > table > tbody > tr:nth-child({rowNum}) > td'\n",
    "    for ele in (driver.find_elements(By.CSS_SELECTOR, css)):\n",
    "        txt = ele.text\n",
    "        if txt == '':\n",
    "            rowData.append(None)\n",
    "        else:\n",
    "            rowData.append(txt)\n",
    "    return rowData\n",
    "\n",
    "# ズームコントロールがうまくいかない\n",
    "#driver.execute_script(\"document.body.style.zoom='30%'\")\n",
    "\n",
    "table = []\n",
    "for i in range(7):\n",
    "    rowData = extract_row_data(i+1)\n",
    "    table.append(rowData)\n",
    "    \n",
    "inputTable = pd.DataFrame(table)\n",
    "\n",
    "# 開発管理No.\n",
    "inputTable.iloc[:, 3]"
   ]
  },
  {
   "attachments": {},
   "cell_type": "markdown",
   "metadata": {},
   "source": [
    "工数の整理"
   ]
  },
  {
   "cell_type": "code",
   "execution_count": 15,
   "metadata": {},
   "outputs": [
    {
     "data": {
      "text/html": [
       "<div>\n",
       "<style scoped>\n",
       "    .dataframe tbody tr th:only-of-type {\n",
       "        vertical-align: middle;\n",
       "    }\n",
       "\n",
       "    .dataframe tbody tr th {\n",
       "        vertical-align: top;\n",
       "    }\n",
       "\n",
       "    .dataframe thead th {\n",
       "        text-align: right;\n",
       "    }\n",
       "</style>\n",
       "<table border=\"1\" class=\"dataframe\">\n",
       "  <thead>\n",
       "    <tr style=\"text-align: right;\">\n",
       "      <th></th>\n",
       "      <th>要員工数</th>\n",
       "      <th>設備工数</th>\n",
       "      <th>勤怠工数</th>\n",
       "      <th>勤怠-要員</th>\n",
       "      <th>KP01YRSX02</th>\n",
       "      <th>KP02YRSX02</th>\n",
       "      <th>YRD-0</th>\n",
       "      <th>YRD-1</th>\n",
       "      <th>YRD-2</th>\n",
       "      <th>YRD-3</th>\n",
       "      <th>YRD-4</th>\n",
       "    </tr>\n",
       "  </thead>\n",
       "  <tbody>\n",
       "    <tr>\n",
       "      <th>2023-06-01</th>\n",
       "      <td>0.0</td>\n",
       "      <td>0.0</td>\n",
       "      <td>9.2</td>\n",
       "      <td>9.2</td>\n",
       "      <td>4.0</td>\n",
       "      <td>4.0</td>\n",
       "      <td>0.0</td>\n",
       "      <td>0.0</td>\n",
       "      <td>0.0</td>\n",
       "      <td>1.0</td>\n",
       "      <td>0.0</td>\n",
       "    </tr>\n",
       "    <tr>\n",
       "      <th>2023-06-02</th>\n",
       "      <td>0.0</td>\n",
       "      <td>0.0</td>\n",
       "      <td>9.2</td>\n",
       "      <td>9.2</td>\n",
       "      <td>4.0</td>\n",
       "      <td>4.0</td>\n",
       "      <td>0.0</td>\n",
       "      <td>0.0</td>\n",
       "      <td>0.0</td>\n",
       "      <td>0.0</td>\n",
       "      <td>1.0</td>\n",
       "    </tr>\n",
       "    <tr>\n",
       "      <th>2023-06-03</th>\n",
       "      <td>0.0</td>\n",
       "      <td>0.0</td>\n",
       "      <td>0.0</td>\n",
       "      <td>0.0</td>\n",
       "      <td>0.0</td>\n",
       "      <td>0.0</td>\n",
       "      <td>0.0</td>\n",
       "      <td>0.0</td>\n",
       "      <td>0.0</td>\n",
       "      <td>0.0</td>\n",
       "      <td>0.0</td>\n",
       "    </tr>\n",
       "    <tr>\n",
       "      <th>2023-06-04</th>\n",
       "      <td>0.0</td>\n",
       "      <td>0.0</td>\n",
       "      <td>0.0</td>\n",
       "      <td>0.0</td>\n",
       "      <td>0.0</td>\n",
       "      <td>0.0</td>\n",
       "      <td>0.0</td>\n",
       "      <td>0.0</td>\n",
       "      <td>0.0</td>\n",
       "      <td>0.0</td>\n",
       "      <td>0.0</td>\n",
       "    </tr>\n",
       "    <tr>\n",
       "      <th>2023-06-05</th>\n",
       "      <td>0.0</td>\n",
       "      <td>0.0</td>\n",
       "      <td>0.0</td>\n",
       "      <td>0.0</td>\n",
       "      <td>4.0</td>\n",
       "      <td>-5.0</td>\n",
       "      <td>1.0</td>\n",
       "      <td>0.0</td>\n",
       "      <td>0.0</td>\n",
       "      <td>0.0</td>\n",
       "      <td>0.0</td>\n",
       "    </tr>\n",
       "    <tr>\n",
       "      <th>2023-06-06</th>\n",
       "      <td>0.0</td>\n",
       "      <td>0.0</td>\n",
       "      <td>0.0</td>\n",
       "      <td>0.0</td>\n",
       "      <td>4.0</td>\n",
       "      <td>-5.0</td>\n",
       "      <td>0.0</td>\n",
       "      <td>1.0</td>\n",
       "      <td>0.0</td>\n",
       "      <td>0.0</td>\n",
       "      <td>0.0</td>\n",
       "    </tr>\n",
       "  </tbody>\n",
       "</table>\n",
       "</div>"
      ],
      "text/plain": [
       "            要員工数  設備工数  勤怠工数  勤怠-要員  KP01YRSX02  KP02YRSX02  YRD-0  YRD-1  \\\n",
       "2023-06-01   0.0   0.0   9.2    9.2         4.0         4.0    0.0    0.0   \n",
       "2023-06-02   0.0   0.0   9.2    9.2         4.0         4.0    0.0    0.0   \n",
       "2023-06-03   0.0   0.0   0.0    0.0         0.0         0.0    0.0    0.0   \n",
       "2023-06-04   0.0   0.0   0.0    0.0         0.0         0.0    0.0    0.0   \n",
       "2023-06-05   0.0   0.0   0.0    0.0         4.0        -5.0    1.0    0.0   \n",
       "2023-06-06   0.0   0.0   0.0    0.0         4.0        -5.0    0.0    1.0   \n",
       "\n",
       "            YRD-2  YRD-3  YRD-4  \n",
       "2023-06-01    0.0    1.0    0.0  \n",
       "2023-06-02    0.0    0.0    1.0  \n",
       "2023-06-03    0.0    0.0    0.0  \n",
       "2023-06-04    0.0    0.0    0.0  \n",
       "2023-06-05    0.0    0.0    0.0  \n",
       "2023-06-06    0.0    0.0    0.0  "
      ]
     },
     "execution_count": 15,
     "metadata": {},
     "output_type": "execute_result"
    }
   ],
   "source": [
    "# 不稼働表示 'YRD-0', 'YRD-1', 'YRD-2', 'YRD-3', 'YRD-4'\n",
    "mainOperationtime = 4.0\n",
    "downtime = 1.0\n",
    "df['KP01YRSX02'] = mainOperationtime\n",
    "df['KP02YRSX02'] = (df['勤怠工数'] - mainOperationtime - downtime).round()\n",
    "\n",
    "for i, label in enumerate(['YRD-0', 'YRD-1', 'YRD-2', 'YRD-3', 'YRD-4']):\n",
    "    df.loc[df.index.weekday == i, label] = downtime\n",
    "\n",
    "df.loc[df.index.weekday == 5, ['KP01YRSX02', 'KP02YRSX02']] = 0\n",
    "df.loc[df.index.weekday == 6, ['KP01YRSX02', 'KP02YRSX02']] = 0\n",
    "\n",
    "df.fillna(0, inplace=True)\n",
    "df.head(6)"
   ]
  },
  {
   "attachments": {},
   "cell_type": "markdown",
   "metadata": {},
   "source": [
    "昨日までを入力"
   ]
  },
  {
   "cell_type": "code",
   "execution_count": 16,
   "metadata": {},
   "outputs": [],
   "source": [
    "df_yesterday = df[df.index < today.strftime('%Y%m%d')]\n",
    "\n",
    "for x, column in enumerate(df_yesterday.index):\n",
    "    for y, index in enumerate(df_yesterday.iloc[x, 4:]):\n",
    "        css = f'#divTblProductCostInfo > div > div > div > div > table > tbody > tr:nth-child({1+y}) > td:nth-child({14+x})'\n",
    "        ele = driver.find_element(By.CSS_SELECTOR, css)\n",
    "        actionChains.click(ele).perform()\n",
    "        actionChains.send_keys(Keys.BACKSPACE).perform()\n",
    "        actionChains.send_keys(f'{index}').perform()"
   ]
  },
  {
   "attachments": {},
   "cell_type": "markdown",
   "metadata": {},
   "source": [
    "登録ボタンを押す"
   ]
  },
  {
   "cell_type": "code",
   "execution_count": 19,
   "metadata": {},
   "outputs": [],
   "source": [
    "driver.find_elements(By.CSS_SELECTOR, '#btnReg')[0].click()"
   ]
  },
  {
   "cell_type": "code",
   "execution_count": 30,
   "metadata": {},
   "outputs": [
    {
     "data": {
      "text/plain": [
       "<selenium.webdriver.remote.webelement.WebElement (session=\"09cdf34197ee2ad9c21dd9ca5c8a6ee1\", element=\"0777E2E62E7C8728B13689FAE3344456_element_2532\")>"
      ]
     },
     "execution_count": 30,
     "metadata": {},
     "output_type": "execute_result"
    }
   ],
   "source": [
    "driver.find_elements(By.CSS_SELECTOR, 'button.swal2-confirm.swal2-styled')[0]"
   ]
  },
  {
   "cell_type": "code",
   "execution_count": null,
   "metadata": {},
   "outputs": [
    {
     "name": "stdout",
     "output_type": "stream",
     "text": [
      "Would you like to register?\n"
     ]
    }
   ],
   "source": [
    "# ynDict={'y':True,'yes':True,'n':False,'no':False}\n",
    "# print('Would you like to register?')\n",
    "# if ynDict[input('[Y]es/[N]o? >> ').lower()]:\n",
    "#     driver.find_elements(By.CSS_SELECTOR, '#btnReg')[0].click()\n",
    "# else:\n",
    "    \n",
    "#     pass"
   ]
  }
 ],
 "metadata": {
  "kernelspec": {
   "display_name": "Python 3",
   "language": "python",
   "name": "python3"
  },
  "language_info": {
   "codemirror_mode": {
    "name": "ipython",
    "version": 3
   },
   "file_extension": ".py",
   "mimetype": "text/x-python",
   "name": "python",
   "nbconvert_exporter": "python",
   "pygments_lexer": "ipython3",
   "version": "3.11.3"
  },
  "orig_nbformat": 4
 },
 "nbformat": 4,
 "nbformat_minor": 2
}
